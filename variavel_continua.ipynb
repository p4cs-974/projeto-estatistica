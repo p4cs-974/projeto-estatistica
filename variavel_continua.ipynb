{
 "cells": [
  {
   "cell_type": "markdown",
   "metadata": {},
   "source": [
    "## Exercício 1 variável contínua"
   ]
  },
  {
   "cell_type": "code",
   "execution_count": 1,
   "metadata": {},
   "outputs": [
    {
     "data": {
      "text/plain": [
       "[<matplotlib.lines.Line2D at 0x26422f050b8>]"
      ]
     },
     "execution_count": 1,
     "metadata": {},
     "output_type": "execute_result"
    },
    {
     "data": {
      "image/png": "[encoded data removed]",
      "text/plain": [
       "<Figure size 432x288 with 1 Axes>"
      ]
     },
     "metadata": {
      "needs_background": "light"
     },
     "output_type": "display_data"
    }
   ],
   "source": [
    "import numpy as np\n",
    "import sympy as sp\n",
    "import matplotlib.pyplot as plt\n",
    "\n",
    "%matplotlib inline         \n",
    "\n",
    "x = np.linspace(0,2,50) \n",
    "y = 0.2*x+0.3\n",
    "plt.plot(x,y)     "
   ]
  },
  {
   "cell_type": "code",
   "execution_count": 4,
   "metadata": {},
   "outputs": [
    {
     "data": {
      "text/latex": [
       "$\\displaystyle 1.0$"
      ],
      "text/plain": [
       "1.00000000000000"
      ]
     },
     "execution_count": 4,
     "metadata": {},
     "output_type": "execute_result"
    }
   ],
   "source": [
    "from sympy import*\n",
    "import sympy as sp\n",
    "x,y=symbols('x y')\n",
    "y = 0.2*x+0.3\n",
    "integrate(y,(x,0,2))"
   ]
  },
  {
   "cell_type": "code",
   "execution_count": 5,
   "metadata": {},
   "outputs": [
    {
     "data": {
      "text/latex": [
       "$\\displaystyle 0.4$"
      ],
      "text/plain": [
       "0.400000000000000"
      ]
     },
     "execution_count": 5,
     "metadata": {},
     "output_type": "execute_result"
    }
   ],
   "source": [
    "from sympy import*\n",
    "import sympy as sp\n",
    "x,y=symbols('x y')\n",
    "y = 0.2*x+0.3\n",
    "integrate(y,(x,0,1))"
   ]
  },
  {
   "cell_type": "code",
   "execution_count": 6,
   "metadata": {},
   "outputs": [
    {
     "data": {
      "text/latex": [
       "$\\displaystyle 1.13333333333333$"
      ],
      "text/plain": [
       "1.13333333333333"
      ]
     },
     "execution_count": 6,
     "metadata": {},
     "output_type": "execute_result"
    }
   ],
   "source": [
    "from sympy import*\n",
    "import sympy as sp\n",
    "x,y=symbols('x y')\n",
    "y = x*(0.2*x+0.3)\n",
    "integrate(y,(x,0,2))"
   ]
  },
  {
   "cell_type": "code",
   "execution_count": 7,
   "metadata": {},
   "outputs": [
    {
     "name": "stdout",
     "output_type": "stream",
     "text": [
      "0.315555555555556\n"
     ]
    }
   ],
   "source": [
    "from sympy import*\n",
    "import sympy as sp\n",
    "x,y=symbols('x y')\n",
    "y1 = x*(0.2*x+0.3)\n",
    "E1=integrate(y1,(x,0,2))\n",
    "y2=x**2*(0.2*x+0.3)\n",
    "E2=integrate(y2,(x,0,2))\n",
    "var=E2-(E1)**2\n",
    "print(var)"
   ]
  },
  {
   "cell_type": "code",
   "execution_count": 10,
   "metadata": {},
   "outputs": [
    {
     "name": "stdout",
     "output_type": "stream",
     "text": [
      "0.561743318211757\n"
     ]
    }
   ],
   "source": [
    "d=sp.sqrt(var)\n",
    "print(d)"
   ]
  },
  {
   "cell_type": "code",
   "execution_count": 12,
   "metadata": {},
   "outputs": [
    {
     "name": "stdout",
     "output_type": "stream",
     "text": [
      "1500\n"
     ]
    }
   ],
   "source": [
    "from sympy import*\n",
    "import sympy as sp\n",
    "x,y=symbols('x y')\n",
    "y1 = (x**2)/1500**2\n",
    "E1=integrate(y1,(x,0,1500))\n",
    "y2=x*(3000-x)/1500**2\n",
    "E2=integrate(y2,(x,1500,3000))\n",
    "E=E1+E2\n",
    "print(E)"
   ]
  },
  {
   "cell_type": "code",
   "execution_count": null,
   "metadata": {},
   "outputs": [],
   "source": []
  }
 ],
 "metadata": {
  "kernelspec": {
   "display_name": "Python 3",
   "language": "python",
   "name": "python3"
  },
  "language_info": {
   "codemirror_mode": {
    "name": "ipython",
    "version": 3
   },
   "file_extension": ".py",
   "mimetype": "text/x-python",
   "name": "python",
   "nbconvert_exporter": "python",
   "pygments_lexer": "ipython3",
   "version": "3.8.5"
  }
 },
 "nbformat": 4,
 "nbformat_minor": 2
}
