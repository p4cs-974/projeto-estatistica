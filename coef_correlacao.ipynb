{
 "cells": [
  {
   "cell_type": "code",
   "execution_count": 1,
   "metadata": {},
   "outputs": [
    {
     "name": "stdout",
     "output_type": "stream",
     "text": [
      "[[1.         0.65373441]\n",
      " [0.65373441 1.        ]]\n"
     ]
    }
   ],
   "source": [
    "import numpy as np\n",
    "x=[9,17,20,19,20,23]\n",
    "y=[22,34,29,33,42,32]\n",
    "correlacao = np.corrcoef(x, y)\n",
    "print(correlacao)"
   ]
  },
  {
   "cell_type": "code",
   "execution_count": 2,
   "metadata": {},
   "outputs": [
    {
     "name": "stdout",
     "output_type": "stream",
     "text": [
      "[[1.         0.20085546]\n",
      " [0.20085546 1.        ]]\n"
     ]
    }
   ],
   "source": [
    "import numpy as np\n",
    "x=[4,8,7,12,12,8,7,8,4,7]\n",
    "y=[4,5,5,6,5,4,4,5,6,6]\n",
    "correlacao = np.corrcoef(x, y)\n",
    "print(correlacao)"
   ]
  },
  {
   "cell_type": "code",
   "execution_count": 3,
   "metadata": {},
   "outputs": [
    {
     "name": "stdout",
     "output_type": "stream",
     "text": [
      "[[1. 0.]\n",
      " [0. 1.]]\n"
     ]
    }
   ],
   "source": [
    "import numpy as np\n",
    "x=[-1,-1,-1,-1,-1,-1,0,0,0,0,0,0,1,1,1,1,1,1]\n",
    "y=[-2,0,0,0,0,2,-2,0,0,0,0,2,-2,0,0,0,0,2]\n",
    "correlacao = np.corrcoef(x, y)\n",
    "print(correlacao)"
   ]
  },
  {
   "cell_type": "code",
   "execution_count": 7,
   "metadata": {},
   "outputs": [],
   "source": [
    "x=[4,8,7,12,12,8,7,8,4,7]\n",
    "y=[4,5,5,6,5,4,4,5,6,6]"
   ]
  },
  {
   "cell_type": "code",
   "execution_count": 13,
   "metadata": {},
   "outputs": [
    {
     "name": "stdout",
     "output_type": "stream",
     "text": [
      "4.534039334341906\n",
      "[0.06051437]\n"
     ]
    }
   ],
   "source": [
    "import sympy as sy\n",
    "import numpy as np\n",
    "from sklearn.linear_model import LinearRegression\n",
    "x = np.array(x)\n",
    "x = x.reshape(-1, 1)\n",
    "modelo = LinearRegression().fit(x, y)\n",
    "print(modelo.intercept_)\n",
    "print (modelo.coef_)\n"
   ]
  },
  {
   "cell_type": "code",
   "execution_count": 12,
   "metadata": {},
   "outputs": [
    {
     "name": "stdout",
     "output_type": "stream",
     "text": [
      "R2: 0.040342914775592376\n"
     ]
    }
   ],
   "source": [
    "from sklearn.metrics import r2_score\n",
    "R2 = r2_score(y, modelo.predict(x))\n",
    "print('R2:', R2)"
   ]
  },
  {
   "cell_type": "code",
   "execution_count": 1,
   "metadata": {},
   "outputs": [],
   "source": [
    "x=[1,2,3,4]\n",
    "y=[4.1,0.6,0.3,3.2]"
   ]
  },
  {
   "cell_type": "code",
   "execution_count": 2,
   "metadata": {},
   "outputs": [
    {
     "name": "stdout",
     "output_type": "stream",
     "text": [
      "2.8\n",
      "[-0.3]\n"
     ]
    }
   ],
   "source": [
    "import sympy as sy\n",
    "import numpy as np\n",
    "from sklearn.linear_model import LinearRegression\n",
    "x = np.array(x)\n",
    "x = x.reshape(-1, 1)\n",
    "modelo = LinearRegression().fit(x, y)\n",
    "print(modelo.intercept_)\n",
    "print (modelo.coef_)"
   ]
  },
  {
   "cell_type": "code",
   "execution_count": 4,
   "metadata": {},
   "outputs": [
    {
     "name": "stdout",
     "output_type": "stream",
     "text": [
      "[[ 1.         -0.20517168]\n",
      " [-0.20517168  1.        ]]\n"
     ]
    }
   ],
   "source": [
    "x=[1,2,3,4]\n",
    "y=[4.1,0.6,0.3,3.2]\n",
    "correlacao = np.corrcoef(x, y)\n",
    "print(correlacao)"
   ]
  },
  {
   "cell_type": "code",
   "execution_count": 4,
   "metadata": {},
   "outputs": [
    {
     "name": "stdout",
     "output_type": "stream",
     "text": [
      "[[1.         0.91382995]\n",
      " [0.91382995 1.        ]]\n"
     ]
    }
   ],
   "source": [
    "import numpy as np\n",
    "x=[2, 4, 5, 8, 9, 10, 5];\n",
    "y=[4, 9, 7, 10, 11, 15, 8];\n",
    "correlacao = np.corrcoef(x, y)\n",
    "print(correlacao)"
   ]
  },
  {
   "cell_type": "code",
   "execution_count": null,
   "metadata": {},
   "outputs": [],
   "source": []
  }
 ],
 "metadata": {
  "kernelspec": {
   "display_name": "Python 3 (ipykernel)",
   "language": "python",
   "name": "python3"
  },
  "language_info": {
   "codemirror_mode": {
    "name": "ipython",
    "version": 3
   },
   "file_extension": ".py",
   "mimetype": "text/x-python",
   "name": "python",
   "nbconvert_exporter": "python",
   "pygments_lexer": "ipython3",
   "version": "3.9.7"
  }
 },
 "nbformat": 4,
 "nbformat_minor": 2
}
