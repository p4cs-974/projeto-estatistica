{
 "cells": [
  {
   "cell_type": "markdown",
   "metadata": {},
   "source": [
    "## Distibuição conjunta em pyhton"
   ]
  },
  {
   "cell_type": "code",
   "execution_count": 1,
   "metadata": {},
   "outputs": [
    {
     "name": "stdout",
     "output_type": "stream",
     "text": [
      "2.1\n",
      "2.0\n",
      "0.8306623862918074\n",
      "0.7745966692414834\n",
      "[[0.76666667 0.44444444]\n",
      " [0.44444444 0.66666667]]\n",
      "[[1.         0.62166987]\n",
      " [0.62166987 1.        ]]\n"
     ]
    }
   ],
   "source": [
    "import numpy as np\n",
    "# x = renda familiar em R$ 1000,00\n",
    "# y = número de aparelhos de TV em cores\n",
    "x=[1,2,3,1,3,2,3,1,2,3]\n",
    "y=[2,1,3,1,3,3,2,1,2,2]\n",
    "print(np.mean(x)) #calcula a média de x\n",
    "print(np.mean(y)) #calcula a média de y\n",
    "print(np.std(x))#calcula o desvio padrão de x\n",
    "print(np.std(y))#calcula o desvio padrão de y      \n",
    "print(np.cov(x,y))\n",
    "correlacao = np.corrcoef(x, y)\n",
    "print(correlacao)"
   ]
  },
  {
   "cell_type": "code",
   "execution_count": 2,
   "metadata": {},
   "outputs": [
    {
     "name": "stderr",
     "output_type": "stream",
     "text": [
      "C:\\Users\\Iniciar\\anaconda3\\lib\\site-packages\\seaborn\\_decorators.py:36: FutureWarning: Pass the following variable as a keyword arg: x. From version 0.12, the only valid positional argument will be `data`, and passing other arguments without an explicit keyword will result in an error or misinterpretation.\n",
      "  warnings.warn(\n"
     ]
    },
    {
     "data": {
      "image/png": "[encoded data removed]",
      "text/plain": [
       "<Figure size 432x288 with 1 Axes>"
      ]
     },
     "metadata": {},
     "output_type": "display_data"
    }
   ],
   "source": [
    "import seaborn as sns\n",
    "sns.set(style=\"whitegrid\")\n",
    "ax = sns.boxplot(y)"
   ]
  },
  {
   "cell_type": "code",
   "execution_count": null,
   "metadata": {},
   "outputs": [],
   "source": []
  }
 ],
 "metadata": {
  "kernelspec": {
   "display_name": "Python 3",
   "language": "python",
   "name": "python3"
  },
  "language_info": {
   "codemirror_mode": {
    "name": "ipython",
    "version": 3
   },
   "file_extension": ".py",
   "mimetype": "text/x-python",
   "name": "python",
   "nbconvert_exporter": "python",
   "pygments_lexer": "ipython3",
   "version": "3.8.5"
  }
 },
 "nbformat": 4,
 "nbformat_minor": 4
}
